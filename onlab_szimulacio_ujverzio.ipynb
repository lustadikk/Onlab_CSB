{
 "cells": [
  {
   "cell_type": "code",
   "execution_count": 46,
   "metadata": {},
   "outputs": [],
   "source": [
    "import pandas as pd\n",
    "import numpy as np\n",
    "import matplotlib.pyplot as plt\n",
    "import random"
   ]
  },
  {
   "cell_type": "markdown",
   "metadata": {},
   "source": [
    "## ALAP PARAMÉTEREK"
   ]
  },
  {
   "cell_type": "code",
   "execution_count": 34,
   "metadata": {},
   "outputs": [],
   "source": [
    "user_count = 100\n",
    "news_count = 1000\n",
    "starting_credit = 10\n",
    "random.seed(42)"
   ]
  },
  {
   "cell_type": "markdown",
   "metadata": {},
   "source": [
    "## FELHASZNÁLÓI TULAJDONSÁGOK"
   ]
  },
  {
   "cell_type": "code",
   "execution_count": 35,
   "metadata": {},
   "outputs": [],
   "source": [
    "def category_to_number_knowledge(row):\n",
    "    if row['Knowledge'] == 'LOW':\n",
    "        return np.random.uniform(0,0.45,10) #0,0.45\n",
    "    elif row['Knowledge'] == 'MID':\n",
    "        return np.random.uniform(0.3,0.7,10) #0.45,0.65\n",
    "    elif row['Knowledge'] == 'HIGH':\n",
    "        return np.random.uniform(0.55,1,10) #0.65,1\n",
    "    else:\n",
    "        pass\n",
    "\n",
    "def category_to_number_risk(risk):\n",
    "    if risk == 'LOW':\n",
    "        return random.randint(5,35)\n",
    "    elif risk == 'MID':\n",
    "        return random.randint(35,65)\n",
    "    elif risk == 'HIGH':\n",
    "        return random.randint(65,95)\n",
    "    else:\n",
    "        pass\n",
    "\n",
    "\n",
    "def news_status(row):\n",
    "    return random.choice(['Fake','Genuine'])  "
   ]
  },
  {
   "cell_type": "markdown",
   "metadata": {},
   "source": [
    "## SZIMULÁCIÓ FELÉPÍTÉSE"
   ]
  },
  {
   "cell_type": "code",
   "execution_count": 36,
   "metadata": {},
   "outputs": [],
   "source": [
    "#Felhasználó és hírlisák felépítése\n",
    "user_list = []\n",
    "news_list = []\n",
    "mandatory_news_list = []\n",
    "for sorszam in range (1, user_count + 1):\n",
    "    user_list.append('USER_{}'.format(sorszam))\n",
    "for sorszam in range (1, news_count + 1):\n",
    "    news_list.append('NEWS_{}'.format(sorszam))\n",
    "for sorszam in range (1, 21):\n",
    "    mandatory_news_list.append('MANDATORY_NEWS_{}'.format(sorszam))"
   ]
  },
  {
   "cell_type": "code",
   "execution_count": 37,
   "metadata": {},
   "outputs": [],
   "source": [
    "#Tulajdonságok meghatározása\n",
    "credit_list = [starting_credit]*len(user_list)\n",
    "knowledge_list = []\n",
    "low_risk = []\n",
    "mid_risk = []\n",
    "high_risk = []\n",
    "risk_list = []\n",
    "frequency_list = []\n",
    "count = int(math.floor(user_count/27))\n",
    "for x in range(int(math.floor(count*27)/3)):\n",
    "    knowledge_list.extend(['LOW', 'MID', 'HIGH'])\n",
    "    low_risk.append('LOW')\n",
    "    mid_risk.append('MID')\n",
    "    high_risk.append('HIGH')\n",
    "for _ in range (user_count):\n",
    "    freq = random.choice(['MEGFONTOLT','ATLAG','LEGNAGYOBB','GYAKRAN','RITKAN','KÖZEPESEN-MEGFONTOLT'])\n",
    "    frequency_list.append(freq)\n",
    "risk_list = low_risk + mid_risk + high_risk\n",
    "if len(knowledge_list) < user_count:\n",
    "    for _ in range(user_count - len(knowledge_list)):\n",
    "        knowledge_list.append('MID')\n",
    "        risk_list.append('MID')"
   ]
  },
  {
   "cell_type": "code",
   "execution_count": 38,
   "metadata": {},
   "outputs": [],
   "source": [
    "#Dataframe felépítése\n",
    "df = pd.DataFrame(index=['Status','Status_voted','Cycle','Vector'] + user_list, columns  = ['PI','Multiplier', 'Credit','Knowledge','Risk','Frequency','Actual_vote','Actual_credit','Actual_kozelseg'] + mandatory_news_list + news_list)\n",
    "df['Credit'][len(df)-user_count:user_count+len(df)-user_count] = credit_list\n",
    "df['Knowledge'][len(df)-user_count:user_count+len(df)-user_count] = knowledge_list\n",
    "df['Risk'][len(df)-user_count:user_count+len(df)-user_count] = risk_list\n",
    "df['Frequency'][len(df)-user_count:user_count+len(df)-user_count] = frequency_list\n",
    "df['Knowledge'] = df.apply(category_to_number_knowledge,axis = 1)\n",
    "df.loc['Status'] = df.loc['Status'][len(df.columns)-(news_count + len(mandatory_news_list)):].apply(news_status)\n",
    "df['Multiplier'][len(df)-user_count:user_count+len(df)-user_count] = 1\n",
    "df.loc['Vector'] = df.loc['Vector'][len(df.columns)-(news_count + len(mandatory_news_list)):].apply(lambda x: np.random.uniform(0,1,10))"
   ]
  },
  {
   "cell_type": "code",
   "execution_count": 39,
   "metadata": {},
   "outputs": [],
   "source": [
    "#Hírek közelségének számítása\n",
    "def kozelseg_szamolas(vector_i,vector_c):\n",
    "    d = np.dot(vector_i,vector_c)\n",
    "    v = np.linalg.norm(vector_i)\n",
    "    w = np.linalg.norm(vector_c)\n",
    "    a = d/(v*w)\n",
    "    return a\n",
    "df_kozelseg = pd.DataFrame(index = ['Vector_I'] + (mandatory_news_list + news_list), columns = ['Vector_C']+(mandatory_news_list + news_list))\n",
    "df_kozelseg.loc['Vector_I'] = df.loc['Vector'][9:]\n",
    "df_kozelseg['Vector_C'] = df_kozelseg.loc['Vector_I'].transpose()\n",
    "col_list = df_kozelseg.columns.tolist()[1:]\n",
    "col_list\n",
    "for col in col_list:\n",
    "    df_kozelseg[col][1:]= df_kozelseg[1:].apply(lambda x: kozelseg_szamolas(df_kozelseg.at['Vector_I',col],x['Vector_C']),axis = 1)"
   ]
  },
  {
   "cell_type": "code",
   "execution_count": 40,
   "metadata": {},
   "outputs": [],
   "source": [
    "# Előzetes hírértékelés\n",
    "def voting_mandatory(knowledge,vector,vote):\n",
    "    array_difference = knowledge - vector\n",
    "    boolean_array_list = array_difference.tolist()\n",
    "    vote_list = []\n",
    "    if vote == 'Fake':\n",
    "        for elem in boolean_array_list:\n",
    "            if elem <= 0:\n",
    "                #ha nem tudja a felhasználó a választ, akkor véletlenszerű válasz lehetőséget generál\n",
    "                vote_list.append(random.choice(['Genuine','Fake']))\n",
    "            else:\n",
    "                vote_list.append('Fake')\n",
    "    else:\n",
    "        for elem in boolean_array_list:\n",
    "            if elem <= 0:\n",
    "                #ha nem tudja a felhasználó a választ, akkor véletlenszerű válasz lehetőséget generál\n",
    "                vote_list.append(random.choice(['Genuine','Fake']))        \n",
    "            else:\n",
    "                vote_list.append('Genuine')\n",
    "    return vote_list\n",
    "\n",
    "def multiplier_change(vote, col_vote):\n",
    "    #Ha eltalálja az előzetes hírértékelés szavazást, akkor 1-gyel nő a szorzója\n",
    "    if col_vote == vote:\n",
    "        return 1\n",
    "    else:\n",
    "        return 0\n",
    "\n",
    "mandatory_cols = [col for col in df if col.startswith('MANDATORY_NEWS')]\n",
    "for col in mandatory_cols:\n",
    "    vote = df.loc['Status'][df.columns.get_loc(col)]\n",
    "    df[col][len(df)-user_count:] = df[len(df)-user_count:].apply(lambda x: random.choice(voting_mandatory(x['Knowledge'], df.at['Vector',col], vote)),axis = 1)\n",
    "    df['Multiplier'][len(df)-user_count:] += df[len(df)-user_count:].apply(lambda x: multiplier_change(vote,x[col]),axis = 1)"
   ]
  },
  {
   "cell_type": "code",
   "execution_count": 41,
   "metadata": {},
   "outputs": [],
   "source": [
    "# Felhasználók tulajdonságai\n",
    "def status_voting(status,news_vector,knowledge_vector):\n",
    "    if status == 'MEGFONTOLT':\n",
    "        if (knowledge_vector > news_vector).all():\n",
    "            return 1\n",
    "        else:\n",
    "            return 0\n",
    "    elif status == 'KÖZEPESEN-MEGFONTOLT':\n",
    "        summa = 0\n",
    "        for i in range(len(knowledge_vector)):\n",
    "            if knowledge_vector[i] > news_vector[i]:\n",
    "                summa += 1\n",
    "            else:\n",
    "                pass\n",
    "        if summa > 5:\n",
    "            return 1\n",
    "        else:\n",
    "            return 0\n",
    "    elif status == 'LEGNAGYOBB':\n",
    "        if news_vector.max() < knowledge_vector[news_vector.argmax()]:\n",
    "            return 1\n",
    "        else:\n",
    "            return 0\n",
    "    elif status == 'ATLAG':\n",
    "        if knowledge_vector.mean() > news_vector.mean():\n",
    "            return 1\n",
    "        else:\n",
    "            return 0\n",
    "    elif status == 'LEGKISEBB':\n",
    "        if knowledge_vector.min() > news_vector[knowledge_vector.argmin()]:\n",
    "            return 1\n",
    "        else:\n",
    "            return 0\n",
    "    elif status == 'GYAKRAN':\n",
    "        if random.randint(0,100) < 50:\n",
    "            return 1\n",
    "        else:\n",
    "            return 0\n",
    "    elif status == 'RITKAN':\n",
    "        if random.randint(0,100) < 25:\n",
    "            return 1\n",
    "        else:\n",
    "            return 0"
   ]
  },
  {
   "cell_type": "markdown",
   "metadata": {},
   "source": [
    "## HÍREK KIÉRTÉKELÉSE FÜGGVÉNY"
   ]
  },
  {
   "cell_type": "code",
   "execution_count": 42,
   "metadata": {},
   "outputs": [],
   "source": [
    "def voting_status(df,user_list,col,rate):\n",
    "    vote = df.loc['Status'][df.columns.get_loc(col)]\n",
    "    df['Actual_vote'] = df.apply(lambda x: status_voting(x['Frequency'],df.at['Vector',col],x['Knowledge']),axis = 1)\n",
    "    for user in user_list:\n",
    "        if df.at[user,'Actual_vote'] == 1 and df.at[user,'Credit'] > 0 :\n",
    "            list_values = df.loc[user][9:].dropna().tolist()\n",
    "            list_indexes = df.loc[user][9:].dropna().index.tolist()\n",
    "            summ_kozelseg = 0\n",
    "            for i in range(len(list_values)):\n",
    "                kozelseg_ertek = df_kozelseg.at[list_indexes[i], col]\n",
    "                if list_values[i] == df.at['Status',col]:\n",
    "                    summ_kozelseg += kozelseg_ertek\n",
    "                else:\n",
    "                    pass\n",
    "            df.at[user,'Actual_kozelseg'] = summ_kozelseg\n",
    "            df.at[user,col] = random.choice(voting_mandatory(df.at[user,'Knowledge'], df.at['Vector',col],vote))\n",
    "            df.at[user,'Actual_credit'] = 0\n",
    "            df.at[user,'Actual_credit'] = int(df.at[user,'Credit']) * (category_to_number_risk(df.at[user,'Risk'])/100)\n",
    "        else:\n",
    "            pass\n",
    "    count_fake = 0\n",
    "    count_genuine =0\n",
    "    credit_fake = 0\n",
    "    credit_genuine = 0\n",
    "    arany_szorzo_fake = 0\n",
    "    arany_szorzo_genuine = 0\n",
    "    list_answers = df[col][4:].dropna().tolist()\n",
    "    list_users_who_answered =df[col][4:].dropna().index.tolist()\n",
    "    for i in range(len(list_answers)):\n",
    "        if list_answers[i] == 'Fake':\n",
    "            # a count_fake adja meg a FAKE állapotra szavazók súlyát\n",
    "            count_fake += (df.at[list_users_who_answered[i],'Actual_kozelseg']+df.at[list_users_who_answered[i],'Multiplier']*df.at[list_users_who_answered[i],'Credit'])\n",
    "            credit_fake += df.at[list_users_who_answered[i],'Actual_credit']\n",
    "            arany_szorzo_fake += (df.at[list_users_who_answered[i],'Actual_credit'] / df.at[list_users_who_answered[i],'Credit'])\n",
    "        else:\n",
    "            count_genuine += (df.at[list_users_who_answered[i],'Actual_kozelseg']+df.at[list_users_who_answered[i],'Multiplier']*df.at[list_users_who_answered[i],'Credit'])\n",
    "            credit_genuine += (df.at[list_users_who_answered[i],'Actual_credit'])\n",
    "            arany_szorzo_genuine += (df.at[list_users_who_answered[i],'Actual_credit'] / df.at[list_users_who_answered[i],'Credit'])\n",
    "    \n",
    "    if count_fake > count_genuine and count_fake/(count_fake + count_genuine) > rate:\n",
    "        df.at['Cycle',col] = 'DONE'\n",
    "        df.at['Status_voted',col] = 'Fake'\n",
    "        for i in range(len(list_answers)):\n",
    "            if list_answers[i] == 'Fake':\n",
    "                df.at[list_users_who_answered[i],'Credit'] += ((credit_genuine * (count_fake/(count_fake + count_genuine)))/arany_szorzo_fake)*(df.at[list_users_who_answered[i],'Actual_credit'] / df.at[list_users_who_answered[i],'Credit'])\n",
    "                if df.at[list_users_who_answered[i],'Multiplier'] < 10:\n",
    "                    df.at[list_users_who_answered[i],'Multiplier'] += (count_fake/(count_fake + count_genuine)) - (count_genuine/(count_fake + count_genuine))\n",
    "                else:\n",
    "                    df.at[list_users_who_answered[i],'Multiplier'] += ((count_fake/(count_fake + count_genuine)) - (count_genuine/(count_fake + count_genuine)))/100\n",
    "            else:\n",
    "                if arany_szorzo_genuine != 0:\n",
    "                    df.at[list_users_who_answered[i],'Credit'] += ((credit_genuine * (count_genuine/(count_fake + count_genuine)))/arany_szorzo_genuine)*(df.at[list_users_who_answered[i],'Actual_credit'] / df.at[list_users_who_answered[i],'Credit']) - df.at[list_users_who_answered[i],'Actual_credit']\n",
    "                    #df.at[list_users_who_answered[i],'Multiplier'] -= ((count_fake/(count_fake + count_genuine)) - (count_genuine/(count_fake + count_genuine)))*3\n",
    "                    df.at[list_users_who_answered[i],'Multiplier'] = (df.at[list_users_who_answered[i],'Multiplier'])/3\n",
    "                    #df.at[list_users_who_answered[i],'Multiplier'] = (2*df.at[list_users_who_answered[i],'Multiplier'])/3\n",
    "                else:\n",
    "                    pass\n",
    "                # if df.at[list_users_who_answered[i],'Multiplier'] < 1:\n",
    "                #     df.at[list_users_who_answered[i],'Multiplier'] = 1\n",
    "\n",
    "    elif count_genuine > count_fake and count_genuine/(count_fake + count_genuine) > rate:\n",
    "        df.at['Cycle',col] = (1-rate)*10\n",
    "        df.at['Status_voted',col] = 'Genuine'\n",
    "        for i in range(len(list_answers)):\n",
    "            if list_answers[i] == 'Genuine':\n",
    "                df.at[list_users_who_answered[i],'Credit'] += ((credit_fake * (count_genuine/(count_fake + count_genuine)))/arany_szorzo_genuine)*((df.at[list_users_who_answered[i],'Actual_credit']) / (df.at[list_users_who_answered[i],'Credit']))\n",
    "                if df.at[list_users_who_answered[i],'Multiplier'] < 10:\n",
    "                    df.at[list_users_who_answered[i],'Multiplier'] += (count_genuine/(count_fake + count_genuine)) - (count_fake/(count_fake + count_genuine))\n",
    "                else:\n",
    "                    df.at[list_users_who_answered[i],'Multiplier'] += ((count_genuine/(count_fake + count_genuine)) - (count_fake/(count_fake + count_genuine)))/100\n",
    "            else:\n",
    "                if arany_szorzo_fake != 0:\n",
    "                    df.at[list_users_who_answered[i],'Credit'] += ((credit_fake * (count_fake/(count_fake + count_genuine)))/arany_szorzo_fake)*((df.at[list_users_who_answered[i],'Actual_credit']) / (df.at[list_users_who_answered[i],'Credit'])) - df.at[list_users_who_answered[i],'Actual_credit']\n",
    "                    #df.at[list_users_who_answered[i],'Multiplier'] -= ((count_genuine/(count_fake + count_genuine)) - (count_fake/(count_fake + count_genuine)))*3 #87,5% úgy hogy vannak okosak\n",
    "                    #df.at[list_users_who_answered[i],'Multiplier'] = (2*df.at[list_users_who_answered[i],'Multiplier'])/3 #93,5%, úgy hogy vannak okosak, 77% úgy hogy nincsenek dedikált okosak, és nincs LEGNAGYOBB, 95,5% legkisebb nélkül és okosakkal\n",
    "                    df.at[list_users_who_answered[i],'Multiplier'] = (df.at[list_users_who_answered[i],'Multiplier'])/3\n",
    "                else:\n",
    "                    pass\n",
    "                # if df.at[list_users_who_answered[i],'Multiplier'] < 1:\n",
    "                #     df.at[list_users_who_answered[i],'Multiplier'] = 1\n",
    "    else:\n",
    "        df.at['Status_voted',col] = 'NONE'\n",
    "        return\n",
    "        "
   ]
  },
  {
   "cell_type": "code",
   "execution_count": 43,
   "metadata": {},
   "outputs": [],
   "source": [
    "news_cols = [col for col in df if col.startswith('NEWS')]\n",
    "rate = 0.8\n",
    "for col in news_cols:\n",
    "    voting_status(df,user_list,col,rate)"
   ]
  },
  {
   "cell_type": "code",
   "execution_count": 44,
   "metadata": {},
   "outputs": [
    {
     "output_type": "stream",
     "name": "stdout",
     "text": "A sikeresen megszavazott hírek aránya: 81.0%\n"
    }
   ],
   "source": [
    "count_voted = 0\n",
    "for col in news_cols:\n",
    "    if df.at['Status',col] == df.at['Status_voted',col]:\n",
    "        count_voted +=1\n",
    "    else:\n",
    "        pass\n",
    "print('A sikeresen megszavazott hírek aránya: {}%'.format(count_voted/len(news_list)*100))"
   ]
  },
  {
   "cell_type": "code",
   "execution_count": 45,
   "metadata": {},
   "outputs": [
    {
     "output_type": "execute_result",
     "data": {
      "text/plain": "Fake       93\nGenuine    70\nNONE       37\nName: Status_voted, dtype: int64"
     },
     "metadata": {},
     "execution_count": 45
    }
   ],
   "source": [
    "df.loc['Status_voted'].value_counts()"
   ]
  },
  {
   "cell_type": "markdown",
   "metadata": {},
   "source": [
    "df[df['Frequency'] == 'KÖZEPESEN-MEGFONTOLT']"
   ]
  },
  {
   "cell_type": "code",
   "execution_count": 32,
   "metadata": {},
   "outputs": [
    {
     "output_type": "execute_result",
     "data": {
      "text/plain": "           PI Multiplier   Credit  \\\nUSER_66   NaN    18.3566  160.855   \nUSER_39   NaN    20.6452  54.2485   \nUSER_45   NaN    21.3266   26.453   \nUSER_75   NaN    19.1287  23.5203   \nUSER_15   NaN    19.2923   18.103   \nUSER_36   NaN    20.1674  17.5089   \nUSER_30   NaN    8.37325  16.4563   \nUSER_3    NaN    19.2281  16.0337   \nUSER_48   NaN    19.1237  15.0724   \nUSER_69   NaN    18.0699  15.0031   \nUSER_57   NaN    20.0708  14.3375   \nUSER_51   NaN      8.975  13.7505   \nUSER_54   NaN    10.8419  13.7429   \nUSER_18   NaN    20.1633  13.0264   \nUSER_9    NaN    10.1737  11.9908   \nUSER_42   NaN    5.16507   11.926   \nUSER_60   NaN    4.30003  11.9052   \nUSER_41   NaN    16.0258   11.806   \nUSER_87   NaN    10.8673  11.7664   \nUSER_72   NaN    7.57407  11.6275   \nUSER_6    NaN    3.75454  11.2928   \nUSER_100  NaN    18.0165  11.2772   \nUSER_50   NaN    15.0061  11.1954   \nUSER_24   NaN    17.1213  11.0802   \nUSER_82   NaN    12.0165  11.0702   \nUSER_4    NaN    13.0633  10.9593   \nUSER_28   NaN    12.0271  10.9251   \nUSER_29   NaN    10.2504  10.8747   \nUSER_27   NaN    6.05276  10.8453   \nUSER_67   NaN    15.0083  10.5172   \nUSER_21   NaN    5.20499  10.4887   \nUSER_59   NaN    20.0097  10.2139   \nUSER_80   NaN    18.0097  10.1938   \nUSER_44   NaN    17.0097   10.146   \nUSER_35   NaN    13.0097  10.1132   \nUSER_7    NaN    14.0098   10.037   \nUSER_83   NaN    15.0099       10   \nUSER_2    NaN         14       10   \nUSER_52   NaN         13       10   \nUSER_53   NaN         16       10   \nUSER_10   NaN         15       10   \nUSER_77   NaN         16       10   \nUSER_64   NaN         12       10   \nUSER_79   NaN         14       10   \nUSER_61   NaN         17       10   \nUSER_49   NaN         13       10   \nUSER_68   NaN         17       10   \nUSER_14   NaN         18       10   \nUSER_73   NaN         15       10   \nUSER_5    NaN         15       10   \n\n                                                  Knowledge  Risk  \\\nUSER_66   [0.55088331975248, 0.7700717102916452, 0.55303...  HIGH   \nUSER_39   [0.9046482972268993, 0.6530397916326762, 0.732...   MID   \nUSER_45   [0.7764191467671289, 0.87597362184595, 0.90075...   MID   \nUSER_75   [0.8149808586872164, 0.7973745833477032, 0.580...  HIGH   \nUSER_15   [0.5773328651787993, 0.9445636623440574, 0.771...   LOW   \nUSER_36   [0.8628760153497114, 0.9246276931207522, 0.659...   MID   \nUSER_30   [0.7762737552362989, 0.9831316917873498, 0.857...   MID   \nUSER_3    [0.806635096740788, 0.9897765771390065, 0.5871...   LOW   \nUSER_48   [0.7084292949829037, 0.700047532697968, 0.7165...   MID   \nUSER_69   [0.9979633473690184, 0.5760859012589762, 0.683...  HIGH   \nUSER_57   [0.6273508668844717, 0.5637929398982116, 0.948...  HIGH   \nUSER_51   [0.6495782255241614, 0.688914765188512, 0.9526...   MID   \nUSER_54   [0.6697193008551744, 0.5890913186586197, 0.816...   MID   \nUSER_18   [0.6321221081392367, 0.7052766555767667, 0.579...   LOW   \nUSER_9    [0.754579619883305, 0.6277026101080213, 0.8857...   LOW   \nUSER_42   [0.8621520808014507, 0.7414031913366664, 0.954...   MID   \nUSER_60   [0.9281499346869201, 0.6922196356909391, 0.649...  HIGH   \nUSER_41   [0.5353700190323346, 0.3208028080812515, 0.573...   MID   \nUSER_87   [0.5395824127770366, 0.3416766719022004, 0.597...   MID   \nUSER_72   [0.6511304882068817, 0.7320602339756848, 0.866...  HIGH   \nUSER_6    [0.7212119515788425, 0.7478921183232999, 0.914...   LOW   \nUSER_100  [0.589165031784501, 0.5738474118977346, 0.5580...   MID   \nUSER_50   [0.5339060213912972, 0.36945867717174596, 0.64...   MID   \nUSER_24   [0.8524672039058905, 0.6646932564742948, 0.888...   LOW   \nUSER_82   [0.42566912870910983, 0.32785095944767734, 0.3...   MID   \nUSER_4    [0.08442733669410654, 0.2693474858282297, 0.14...   LOW   \nUSER_28   [0.2800947112046668, 0.12715094132390217, 0.27...   MID   \nUSER_29   [0.5956093879348691, 0.5431452294221397, 0.378...   MID   \nUSER_27   [0.7620418903750548, 0.6601064685271574, 0.995...   LOW   \nUSER_67   [0.1497626581920835, 0.29837048445353065, 0.06...  HIGH   \nUSER_21   [0.5808819427085836, 0.6142486228877517, 0.737...   LOW   \nUSER_59   [0.4201083739781366, 0.4504107317671433, 0.566...  HIGH   \nUSER_80   [0.5966351258908345, 0.5302382748148041, 0.587...  HIGH   \nUSER_44   [0.3814639204941536, 0.37539177602123946, 0.69...   MID   \nUSER_35   [0.5818992350206935, 0.4908749608412316, 0.453...   MID   \nUSER_7    [0.22296314134223635, 0.32585939655751084, 0.3...   LOW   \nUSER_83   [0.3223438753423564, 0.5136635854452495, 0.682...   MID   \nUSER_2    [0.45984081412195316, 0.35974173890584227, 0.4...   LOW   \nUSER_52   [0.18089075389329953, 0.002512983714909001, 0....   MID   \nUSER_53   [0.4925219134489332, 0.6390105029752637, 0.660...   MID   \nUSER_10   [0.05348747764158682, 0.12164953429683256, 0.3...   LOW   \nUSER_77   [0.44478014865323595, 0.3179967561498889, 0.69...  HIGH   \nUSER_64   [0.2403942251800329, 0.01807646675213111, 0.26...  HIGH   \nUSER_79   [0.26671296227644853, 0.28191193658421243, 0.3...  HIGH   \nUSER_61   [0.11345159599725234, 0.14932093466543492, 0.2...  HIGH   \nUSER_49   [0.03041919012435505, 0.09564740188994578, 0.2...   MID   \nUSER_68   [0.33899811259846874, 0.49911582570310664, 0.5...  HIGH   \nUSER_14   [0.5925949193237936, 0.47674001412627987, 0.69...   LOW   \nUSER_73   [0.17316221527768652, 0.3340881372027769, 0.05...  HIGH   \nUSER_5    [0.6168505404071292, 0.46974901884567477, 0.55...   LOW   \n\n                     Frequency  Actual_vote Actual_credit Actual_kozelseg  \\\nUSER_66                  ATLAG          1.0         115.2         77.3765   \nUSER_39                GYAKRAN          0.0          26.5         37.1666   \nUSER_45             MEGFONTOLT          0.0            12         21.8582   \nUSER_75             MEGFONTOLT          0.0         15.84         9.31393   \nUSER_15                 RITKAN          0.0          4.42         18.7728   \nUSER_36             MEGFONTOLT          1.0          7.14         13.1764   \nUSER_30                 RITKAN          0.0          8.96          18.744   \nUSER_3              MEGFONTOLT          0.0          4.65         15.7449   \nUSER_48             MEGFONTOLT          0.0          6.86         13.9295   \nUSER_69             MEGFONTOLT          0.0          12.6         11.6106   \nUSER_57             MEGFONTOLT          0.0           9.1         9.07235   \nUSER_51                 RITKAN          1.0          7.15         26.2732   \nUSER_54   KÖZEPESEN-MEGFONTOLT          1.0           5.2         68.3074   \nUSER_18             MEGFONTOLT          0.0          2.21         15.2642   \nUSER_9    KÖZEPESEN-MEGFONTOLT          1.0          3.19         65.3931   \nUSER_42                  ATLAG          1.0          4.18         68.8191   \nUSER_60                 RITKAN          0.0           8.6         24.4126   \nUSER_41             LEGNAGYOBB          0.0           6.6         6.10041   \nUSER_87   KÖZEPESEN-MEGFONTOLT          1.0          5.28         36.8358   \nUSER_72             LEGNAGYOBB          0.0           7.2         28.1252   \nUSER_6                   ATLAG          1.0          0.88         76.2444   \nUSER_100            LEGNAGYOBB          0.0          3.96         7.56137   \nUSER_50             LEGNAGYOBB          0.0           5.7           10.73   \nUSER_24             MEGFONTOLT          0.0           1.1          7.9999   \nUSER_82             LEGNAGYOBB          0.0             4         7.61588   \nUSER_4    KÖZEPESEN-MEGFONTOLT          0.0           3.3         7.37689   \nUSER_28   KÖZEPESEN-MEGFONTOLT          0.0           6.1         6.44229   \nUSER_29   KÖZEPESEN-MEGFONTOLT          0.0           3.7          37.685   \nUSER_27   KÖZEPESEN-MEGFONTOLT          1.0           1.6         73.3231   \nUSER_67   KÖZEPESEN-MEGFONTOLT          0.0           6.5         4.24624   \nUSER_21                  ATLAG          1.0           0.5         74.1661   \nUSER_59             MEGFONTOLT          0.0           8.5         8.15356   \nUSER_80             LEGNAGYOBB          0.0           7.7         6.87625   \nUSER_44             LEGNAGYOBB          0.0           5.8         5.93509   \nUSER_35             LEGNAGYOBB          0.0           4.5         9.11693   \nUSER_7                   ATLAG          0.0           2.2         5.02286   \nUSER_83             LEGNAGYOBB          0.0           6.2         9.52598   \nUSER_2              MEGFONTOLT          0.0           NaN             NaN   \nUSER_52             LEGNAGYOBB          0.0           NaN             NaN   \nUSER_53             MEGFONTOLT          0.0           NaN             NaN   \nUSER_10             MEGFONTOLT          0.0           NaN             NaN   \nUSER_77             LEGNAGYOBB          0.0           NaN             NaN   \nUSER_64             LEGNAGYOBB          0.0           NaN             NaN   \nUSER_79   KÖZEPESEN-MEGFONTOLT          0.0           NaN             NaN   \nUSER_61             LEGNAGYOBB          0.0           NaN             NaN   \nUSER_49             LEGNAGYOBB          0.0           NaN             NaN   \nUSER_68             MEGFONTOLT          0.0           NaN             NaN   \nUSER_14             MEGFONTOLT          0.0           NaN             NaN   \nUSER_73             MEGFONTOLT          0.0           NaN             NaN   \nUSER_5              LEGNAGYOBB          0.0           NaN             NaN   \n\n         MANDATORY_NEWS_1  ... NEWS_191 NEWS_192 NEWS_193 NEWS_194 NEWS_195  \\\nUSER_66              Fake  ...     Fake  Genuine  Genuine  Genuine     Fake   \nUSER_39              Fake  ...      NaN     Fake  Genuine      NaN      NaN   \nUSER_45              Fake  ...      NaN      NaN      NaN  Genuine      NaN   \nUSER_75              Fake  ...      NaN      NaN      NaN      NaN      NaN   \nUSER_15              Fake  ...     Fake     Fake      NaN  Genuine      NaN   \nUSER_36              Fake  ...      NaN      NaN  Genuine      NaN      NaN   \nUSER_30              Fake  ...     Fake      NaN  Genuine      NaN     Fake   \nUSER_3               Fake  ...      NaN      NaN  Genuine      NaN      NaN   \nUSER_48              Fake  ...      NaN      NaN      NaN      NaN      NaN   \nUSER_69              Fake  ...      NaN      NaN      NaN      NaN      NaN   \nUSER_57              Fake  ...      NaN      NaN      NaN      NaN      NaN   \nUSER_51              Fake  ...      NaN      NaN      NaN      NaN      NaN   \nUSER_54              Fake  ...     Fake     Fake  Genuine  Genuine     Fake   \nUSER_18              Fake  ...      NaN      NaN      NaN      NaN      NaN   \nUSER_9               Fake  ...  Genuine      NaN  Genuine  Genuine     Fake   \nUSER_42              Fake  ...     Fake     Fake  Genuine  Genuine     Fake   \nUSER_60              Fake  ...      NaN      NaN  Genuine  Genuine     Fake   \nUSER_41              Fake  ...      NaN      NaN      NaN      NaN      NaN   \nUSER_87           Genuine  ...      NaN      NaN  Genuine  Genuine      NaN   \nUSER_72              Fake  ...      NaN      NaN      NaN      NaN  Genuine   \nUSER_6               Fake  ...  Genuine     Fake  Genuine  Genuine     Fake   \nUSER_100             Fake  ...      NaN      NaN      NaN      NaN      NaN   \nUSER_50              Fake  ...      NaN      NaN      NaN      NaN      NaN   \nUSER_24              Fake  ...      NaN      NaN      NaN      NaN      NaN   \nUSER_82              Fake  ...      NaN      NaN      NaN      NaN      NaN   \nUSER_4            Genuine  ...      NaN      NaN      NaN      NaN      NaN   \nUSER_28           Genuine  ...      NaN      NaN      NaN      NaN      NaN   \nUSER_29              Fake  ...      NaN      NaN      NaN  Genuine      NaN   \nUSER_27              Fake  ...     Fake     Fake  Genuine  Genuine     Fake   \nUSER_67              Fake  ...      NaN      NaN      NaN      NaN      NaN   \nUSER_21              Fake  ...     Fake     Fake  Genuine  Genuine     Fake   \nUSER_59              Fake  ...      NaN      NaN      NaN      NaN      NaN   \nUSER_80           Genuine  ...      NaN      NaN      NaN      NaN      NaN   \nUSER_44              Fake  ...      NaN      NaN      NaN      NaN      NaN   \nUSER_35           Genuine  ...      NaN      NaN      NaN      NaN      NaN   \nUSER_7            Genuine  ...      NaN      NaN      NaN      NaN      NaN   \nUSER_83              Fake  ...      NaN      NaN      NaN      NaN      NaN   \nUSER_2               Fake  ...      NaN      NaN      NaN      NaN      NaN   \nUSER_52           Genuine  ...      NaN      NaN      NaN      NaN      NaN   \nUSER_53              Fake  ...      NaN      NaN      NaN      NaN      NaN   \nUSER_10              Fake  ...      NaN      NaN      NaN      NaN      NaN   \nUSER_77              Fake  ...      NaN      NaN      NaN      NaN      NaN   \nUSER_64              Fake  ...      NaN      NaN      NaN      NaN      NaN   \nUSER_79           Genuine  ...      NaN      NaN      NaN      NaN      NaN   \nUSER_61           Genuine  ...      NaN      NaN      NaN      NaN      NaN   \nUSER_49              Fake  ...      NaN      NaN      NaN      NaN      NaN   \nUSER_68              Fake  ...      NaN      NaN      NaN      NaN      NaN   \nUSER_14              Fake  ...      NaN      NaN      NaN      NaN      NaN   \nUSER_73              Fake  ...      NaN      NaN      NaN      NaN      NaN   \nUSER_5               Fake  ...      NaN      NaN      NaN      NaN      NaN   \n\n         NEWS_196 NEWS_197 NEWS_198 NEWS_199 NEWS_200  \nUSER_66   Genuine     Fake  Genuine  Genuine  Genuine  \nUSER_39       NaN      NaN  Genuine      NaN      NaN  \nUSER_45       NaN      NaN  Genuine      NaN      NaN  \nUSER_75   Genuine      NaN      NaN  Genuine      NaN  \nUSER_15       NaN      NaN      NaN      NaN      NaN  \nUSER_36       NaN      NaN      NaN      NaN  Genuine  \nUSER_30   Genuine      NaN      NaN      NaN      NaN  \nUSER_3        NaN      NaN      NaN  Genuine      NaN  \nUSER_48       NaN      NaN      NaN  Genuine      NaN  \nUSER_69       NaN      NaN      NaN      NaN      NaN  \nUSER_57       NaN      NaN      NaN      NaN      NaN  \nUSER_51   Genuine      NaN      NaN      NaN  Genuine  \nUSER_54   Genuine     Fake  Genuine  Genuine  Genuine  \nUSER_18       NaN      NaN      NaN      NaN      NaN  \nUSER_9    Genuine     Fake  Genuine  Genuine  Genuine  \nUSER_42   Genuine     Fake     Fake  Genuine  Genuine  \nUSER_60      Fake      NaN  Genuine      NaN      NaN  \nUSER_41       NaN      NaN      NaN      NaN      NaN  \nUSER_87   Genuine      NaN  Genuine      NaN  Genuine  \nUSER_72       NaN     Fake      NaN      NaN      NaN  \nUSER_6    Genuine     Fake  Genuine     Fake  Genuine  \nUSER_100      NaN      NaN      NaN      NaN      NaN  \nUSER_50       NaN      NaN      NaN      NaN      NaN  \nUSER_24       NaN      NaN      NaN      NaN      NaN  \nUSER_82       NaN      NaN      NaN      NaN      NaN  \nUSER_4        NaN      NaN      NaN      NaN      NaN  \nUSER_28       NaN      NaN      NaN      NaN      NaN  \nUSER_29   Genuine      NaN  Genuine  Genuine      NaN  \nUSER_27   Genuine  Genuine  Genuine  Genuine  Genuine  \nUSER_67       NaN      NaN      NaN      NaN      NaN  \nUSER_21   Genuine     Fake     Fake  Genuine  Genuine  \nUSER_59       NaN      NaN      NaN      NaN      NaN  \nUSER_80       NaN      NaN      NaN      NaN      NaN  \nUSER_44       NaN      NaN      NaN      NaN      NaN  \nUSER_35       NaN      NaN      NaN      NaN      NaN  \nUSER_7        NaN      NaN      NaN      NaN      NaN  \nUSER_83       NaN      NaN      NaN      NaN      NaN  \nUSER_2        NaN      NaN      NaN      NaN      NaN  \nUSER_52       NaN      NaN      NaN      NaN      NaN  \nUSER_53       NaN      NaN      NaN      NaN      NaN  \nUSER_10       NaN      NaN      NaN      NaN      NaN  \nUSER_77       NaN      NaN      NaN      NaN      NaN  \nUSER_64       NaN      NaN      NaN      NaN      NaN  \nUSER_79       NaN      NaN      NaN      NaN      NaN  \nUSER_61       NaN      NaN      NaN      NaN      NaN  \nUSER_49       NaN      NaN      NaN      NaN      NaN  \nUSER_68       NaN      NaN      NaN      NaN      NaN  \nUSER_14       NaN      NaN      NaN      NaN      NaN  \nUSER_73       NaN      NaN      NaN      NaN      NaN  \nUSER_5        NaN      NaN      NaN      NaN      NaN  \n\n[50 rows x 229 columns]",
      "text/html": "<div>\n<style scoped>\n    .dataframe tbody tr th:only-of-type {\n        vertical-align: middle;\n    }\n\n    .dataframe tbody tr th {\n        vertical-align: top;\n    }\n\n    .dataframe thead th {\n        text-align: right;\n    }\n</style>\n<table border=\"1\" class=\"dataframe\">\n  <thead>\n    <tr style=\"text-align: right;\">\n      <th></th>\n      <th>PI</th>\n      <th>Multiplier</th>\n      <th>Credit</th>\n      <th>Knowledge</th>\n      <th>Risk</th>\n      <th>Frequency</th>\n      <th>Actual_vote</th>\n      <th>Actual_credit</th>\n      <th>Actual_kozelseg</th>\n      <th>MANDATORY_NEWS_1</th>\n      <th>...</th>\n      <th>NEWS_191</th>\n      <th>NEWS_192</th>\n      <th>NEWS_193</th>\n      <th>NEWS_194</th>\n      <th>NEWS_195</th>\n      <th>NEWS_196</th>\n      <th>NEWS_197</th>\n      <th>NEWS_198</th>\n      <th>NEWS_199</th>\n      <th>NEWS_200</th>\n    </tr>\n  </thead>\n  <tbody>\n    <tr>\n      <th>USER_66</th>\n      <td>NaN</td>\n      <td>18.3566</td>\n      <td>160.855</td>\n      <td>[0.55088331975248, 0.7700717102916452, 0.55303...</td>\n      <td>HIGH</td>\n      <td>ATLAG</td>\n      <td>1.0</td>\n      <td>115.2</td>\n      <td>77.3765</td>\n      <td>Fake</td>\n      <td>...</td>\n      <td>Fake</td>\n      <td>Genuine</td>\n      <td>Genuine</td>\n      <td>Genuine</td>\n      <td>Fake</td>\n      <td>Genuine</td>\n      <td>Fake</td>\n      <td>Genuine</td>\n      <td>Genuine</td>\n      <td>Genuine</td>\n    </tr>\n    <tr>\n      <th>USER_39</th>\n      <td>NaN</td>\n      <td>20.6452</td>\n      <td>54.2485</td>\n      <td>[0.9046482972268993, 0.6530397916326762, 0.732...</td>\n      <td>MID</td>\n      <td>GYAKRAN</td>\n      <td>0.0</td>\n      <td>26.5</td>\n      <td>37.1666</td>\n      <td>Fake</td>\n      <td>...</td>\n      <td>NaN</td>\n      <td>Fake</td>\n      <td>Genuine</td>\n      <td>NaN</td>\n      <td>NaN</td>\n      <td>NaN</td>\n      <td>NaN</td>\n      <td>Genuine</td>\n      <td>NaN</td>\n      <td>NaN</td>\n    </tr>\n    <tr>\n      <th>USER_45</th>\n      <td>NaN</td>\n      <td>21.3266</td>\n      <td>26.453</td>\n      <td>[0.7764191467671289, 0.87597362184595, 0.90075...</td>\n      <td>MID</td>\n      <td>MEGFONTOLT</td>\n      <td>0.0</td>\n      <td>12</td>\n      <td>21.8582</td>\n      <td>Fake</td>\n      <td>...</td>\n      <td>NaN</td>\n      <td>NaN</td>\n      <td>NaN</td>\n      <td>Genuine</td>\n      <td>NaN</td>\n      <td>NaN</td>\n      <td>NaN</td>\n      <td>Genuine</td>\n      <td>NaN</td>\n      <td>NaN</td>\n    </tr>\n    <tr>\n      <th>USER_75</th>\n      <td>NaN</td>\n      <td>19.1287</td>\n      <td>23.5203</td>\n      <td>[0.8149808586872164, 0.7973745833477032, 0.580...</td>\n      <td>HIGH</td>\n      <td>MEGFONTOLT</td>\n      <td>0.0</td>\n      <td>15.84</td>\n      <td>9.31393</td>\n      <td>Fake</td>\n      <td>...</td>\n      <td>NaN</td>\n      <td>NaN</td>\n      <td>NaN</td>\n      <td>NaN</td>\n      <td>NaN</td>\n      <td>Genuine</td>\n      <td>NaN</td>\n      <td>NaN</td>\n      <td>Genuine</td>\n      <td>NaN</td>\n    </tr>\n    <tr>\n      <th>USER_15</th>\n      <td>NaN</td>\n      <td>19.2923</td>\n      <td>18.103</td>\n      <td>[0.5773328651787993, 0.9445636623440574, 0.771...</td>\n      <td>LOW</td>\n      <td>RITKAN</td>\n      <td>0.0</td>\n      <td>4.42</td>\n      <td>18.7728</td>\n      <td>Fake</td>\n      <td>...</td>\n      <td>Fake</td>\n      <td>Fake</td>\n      <td>NaN</td>\n      <td>Genuine</td>\n      <td>NaN</td>\n      <td>NaN</td>\n      <td>NaN</td>\n      <td>NaN</td>\n      <td>NaN</td>\n      <td>NaN</td>\n    </tr>\n    <tr>\n      <th>USER_36</th>\n      <td>NaN</td>\n      <td>20.1674</td>\n      <td>17.5089</td>\n      <td>[0.8628760153497114, 0.9246276931207522, 0.659...</td>\n      <td>MID</td>\n      <td>MEGFONTOLT</td>\n      <td>1.0</td>\n      <td>7.14</td>\n      <td>13.1764</td>\n      <td>Fake</td>\n      <td>...</td>\n      <td>NaN</td>\n      <td>NaN</td>\n      <td>Genuine</td>\n      <td>NaN</td>\n      <td>NaN</td>\n      <td>NaN</td>\n      <td>NaN</td>\n      <td>NaN</td>\n      <td>NaN</td>\n      <td>Genuine</td>\n    </tr>\n    <tr>\n      <th>USER_30</th>\n      <td>NaN</td>\n      <td>8.37325</td>\n      <td>16.4563</td>\n      <td>[0.7762737552362989, 0.9831316917873498, 0.857...</td>\n      <td>MID</td>\n      <td>RITKAN</td>\n      <td>0.0</td>\n      <td>8.96</td>\n      <td>18.744</td>\n      <td>Fake</td>\n      <td>...</td>\n      <td>Fake</td>\n      <td>NaN</td>\n      <td>Genuine</td>\n      <td>NaN</td>\n      <td>Fake</td>\n      <td>Genuine</td>\n      <td>NaN</td>\n      <td>NaN</td>\n      <td>NaN</td>\n      <td>NaN</td>\n    </tr>\n    <tr>\n      <th>USER_3</th>\n      <td>NaN</td>\n      <td>19.2281</td>\n      <td>16.0337</td>\n      <td>[0.806635096740788, 0.9897765771390065, 0.5871...</td>\n      <td>LOW</td>\n      <td>MEGFONTOLT</td>\n      <td>0.0</td>\n      <td>4.65</td>\n      <td>15.7449</td>\n      <td>Fake</td>\n      <td>...</td>\n      <td>NaN</td>\n      <td>NaN</td>\n      <td>Genuine</td>\n      <td>NaN</td>\n      <td>NaN</td>\n      <td>NaN</td>\n      <td>NaN</td>\n      <td>NaN</td>\n      <td>Genuine</td>\n      <td>NaN</td>\n    </tr>\n    <tr>\n      <th>USER_48</th>\n      <td>NaN</td>\n      <td>19.1237</td>\n      <td>15.0724</td>\n      <td>[0.7084292949829037, 0.700047532697968, 0.7165...</td>\n      <td>MID</td>\n      <td>MEGFONTOLT</td>\n      <td>0.0</td>\n      <td>6.86</td>\n      <td>13.9295</td>\n      <td>Fake</td>\n      <td>...</td>\n      <td>NaN</td>\n      <td>NaN</td>\n      <td>NaN</td>\n      <td>NaN</td>\n      <td>NaN</td>\n      <td>NaN</td>\n      <td>NaN</td>\n      <td>NaN</td>\n      <td>Genuine</td>\n      <td>NaN</td>\n    </tr>\n    <tr>\n      <th>USER_69</th>\n      <td>NaN</td>\n      <td>18.0699</td>\n      <td>15.0031</td>\n      <td>[0.9979633473690184, 0.5760859012589762, 0.683...</td>\n      <td>HIGH</td>\n      <td>MEGFONTOLT</td>\n      <td>0.0</td>\n      <td>12.6</td>\n      <td>11.6106</td>\n      <td>Fake</td>\n      <td>...</td>\n      <td>NaN</td>\n      <td>NaN</td>\n      <td>NaN</td>\n      <td>NaN</td>\n      <td>NaN</td>\n      <td>NaN</td>\n      <td>NaN</td>\n      <td>NaN</td>\n      <td>NaN</td>\n      <td>NaN</td>\n    </tr>\n    <tr>\n      <th>USER_57</th>\n      <td>NaN</td>\n      <td>20.0708</td>\n      <td>14.3375</td>\n      <td>[0.6273508668844717, 0.5637929398982116, 0.948...</td>\n      <td>HIGH</td>\n      <td>MEGFONTOLT</td>\n      <td>0.0</td>\n      <td>9.1</td>\n      <td>9.07235</td>\n      <td>Fake</td>\n      <td>...</td>\n      <td>NaN</td>\n      <td>NaN</td>\n      <td>NaN</td>\n      <td>NaN</td>\n      <td>NaN</td>\n      <td>NaN</td>\n      <td>NaN</td>\n      <td>NaN</td>\n      <td>NaN</td>\n      <td>NaN</td>\n    </tr>\n    <tr>\n      <th>USER_51</th>\n      <td>NaN</td>\n      <td>8.975</td>\n      <td>13.7505</td>\n      <td>[0.6495782255241614, 0.688914765188512, 0.9526...</td>\n      <td>MID</td>\n      <td>RITKAN</td>\n      <td>1.0</td>\n      <td>7.15</td>\n      <td>26.2732</td>\n      <td>Fake</td>\n      <td>...</td>\n      <td>NaN</td>\n      <td>NaN</td>\n      <td>NaN</td>\n      <td>NaN</td>\n      <td>NaN</td>\n      <td>Genuine</td>\n      <td>NaN</td>\n      <td>NaN</td>\n      <td>NaN</td>\n      <td>Genuine</td>\n    </tr>\n    <tr>\n      <th>USER_54</th>\n      <td>NaN</td>\n      <td>10.8419</td>\n      <td>13.7429</td>\n      <td>[0.6697193008551744, 0.5890913186586197, 0.816...</td>\n      <td>MID</td>\n      <td>KÖZEPESEN-MEGFONTOLT</td>\n      <td>1.0</td>\n      <td>5.2</td>\n      <td>68.3074</td>\n      <td>Fake</td>\n      <td>...</td>\n      <td>Fake</td>\n      <td>Fake</td>\n      <td>Genuine</td>\n      <td>Genuine</td>\n      <td>Fake</td>\n      <td>Genuine</td>\n      <td>Fake</td>\n      <td>Genuine</td>\n      <td>Genuine</td>\n      <td>Genuine</td>\n    </tr>\n    <tr>\n      <th>USER_18</th>\n      <td>NaN</td>\n      <td>20.1633</td>\n      <td>13.0264</td>\n      <td>[0.6321221081392367, 0.7052766555767667, 0.579...</td>\n      <td>LOW</td>\n      <td>MEGFONTOLT</td>\n      <td>0.0</td>\n      <td>2.21</td>\n      <td>15.2642</td>\n      <td>Fake</td>\n      <td>...</td>\n      <td>NaN</td>\n      <td>NaN</td>\n      <td>NaN</td>\n      <td>NaN</td>\n      <td>NaN</td>\n      <td>NaN</td>\n      <td>NaN</td>\n      <td>NaN</td>\n      <td>NaN</td>\n      <td>NaN</td>\n    </tr>\n    <tr>\n      <th>USER_9</th>\n      <td>NaN</td>\n      <td>10.1737</td>\n      <td>11.9908</td>\n      <td>[0.754579619883305, 0.6277026101080213, 0.8857...</td>\n      <td>LOW</td>\n      <td>KÖZEPESEN-MEGFONTOLT</td>\n      <td>1.0</td>\n      <td>3.19</td>\n      <td>65.3931</td>\n      <td>Fake</td>\n      <td>...</td>\n      <td>Genuine</td>\n      <td>NaN</td>\n      <td>Genuine</td>\n      <td>Genuine</td>\n      <td>Fake</td>\n      <td>Genuine</td>\n      <td>Fake</td>\n      <td>Genuine</td>\n      <td>Genuine</td>\n      <td>Genuine</td>\n    </tr>\n    <tr>\n      <th>USER_42</th>\n      <td>NaN</td>\n      <td>5.16507</td>\n      <td>11.926</td>\n      <td>[0.8621520808014507, 0.7414031913366664, 0.954...</td>\n      <td>MID</td>\n      <td>ATLAG</td>\n      <td>1.0</td>\n      <td>4.18</td>\n      <td>68.8191</td>\n      <td>Fake</td>\n      <td>...</td>\n      <td>Fake</td>\n      <td>Fake</td>\n      <td>Genuine</td>\n      <td>Genuine</td>\n      <td>Fake</td>\n      <td>Genuine</td>\n      <td>Fake</td>\n      <td>Fake</td>\n      <td>Genuine</td>\n      <td>Genuine</td>\n    </tr>\n    <tr>\n      <th>USER_60</th>\n      <td>NaN</td>\n      <td>4.30003</td>\n      <td>11.9052</td>\n      <td>[0.9281499346869201, 0.6922196356909391, 0.649...</td>\n      <td>HIGH</td>\n      <td>RITKAN</td>\n      <td>0.0</td>\n      <td>8.6</td>\n      <td>24.4126</td>\n      <td>Fake</td>\n      <td>...</td>\n      <td>NaN</td>\n      <td>NaN</td>\n      <td>Genuine</td>\n      <td>Genuine</td>\n      <td>Fake</td>\n      <td>Fake</td>\n      <td>NaN</td>\n      <td>Genuine</td>\n      <td>NaN</td>\n      <td>NaN</td>\n    </tr>\n    <tr>\n      <th>USER_41</th>\n      <td>NaN</td>\n      <td>16.0258</td>\n      <td>11.806</td>\n      <td>[0.5353700190323346, 0.3208028080812515, 0.573...</td>\n      <td>MID</td>\n      <td>LEGNAGYOBB</td>\n      <td>0.0</td>\n      <td>6.6</td>\n      <td>6.10041</td>\n      <td>Fake</td>\n      <td>...</td>\n      <td>NaN</td>\n      <td>NaN</td>\n      <td>NaN</td>\n      <td>NaN</td>\n      <td>NaN</td>\n      <td>NaN</td>\n      <td>NaN</td>\n      <td>NaN</td>\n      <td>NaN</td>\n      <td>NaN</td>\n    </tr>\n    <tr>\n      <th>USER_87</th>\n      <td>NaN</td>\n      <td>10.8673</td>\n      <td>11.7664</td>\n      <td>[0.5395824127770366, 0.3416766719022004, 0.597...</td>\n      <td>MID</td>\n      <td>KÖZEPESEN-MEGFONTOLT</td>\n      <td>1.0</td>\n      <td>5.28</td>\n      <td>36.8358</td>\n      <td>Genuine</td>\n      <td>...</td>\n      <td>NaN</td>\n      <td>NaN</td>\n      <td>Genuine</td>\n      <td>Genuine</td>\n      <td>NaN</td>\n      <td>Genuine</td>\n      <td>NaN</td>\n      <td>Genuine</td>\n      <td>NaN</td>\n      <td>Genuine</td>\n    </tr>\n    <tr>\n      <th>USER_72</th>\n      <td>NaN</td>\n      <td>7.57407</td>\n      <td>11.6275</td>\n      <td>[0.6511304882068817, 0.7320602339756848, 0.866...</td>\n      <td>HIGH</td>\n      <td>LEGNAGYOBB</td>\n      <td>0.0</td>\n      <td>7.2</td>\n      <td>28.1252</td>\n      <td>Fake</td>\n      <td>...</td>\n      <td>NaN</td>\n      <td>NaN</td>\n      <td>NaN</td>\n      <td>NaN</td>\n      <td>Genuine</td>\n      <td>NaN</td>\n      <td>Fake</td>\n      <td>NaN</td>\n      <td>NaN</td>\n      <td>NaN</td>\n    </tr>\n    <tr>\n      <th>USER_6</th>\n      <td>NaN</td>\n      <td>3.75454</td>\n      <td>11.2928</td>\n      <td>[0.7212119515788425, 0.7478921183232999, 0.914...</td>\n      <td>LOW</td>\n      <td>ATLAG</td>\n      <td>1.0</td>\n      <td>0.88</td>\n      <td>76.2444</td>\n      <td>Fake</td>\n      <td>...</td>\n      <td>Genuine</td>\n      <td>Fake</td>\n      <td>Genuine</td>\n      <td>Genuine</td>\n      <td>Fake</td>\n      <td>Genuine</td>\n      <td>Fake</td>\n      <td>Genuine</td>\n      <td>Fake</td>\n      <td>Genuine</td>\n    </tr>\n    <tr>\n      <th>USER_100</th>\n      <td>NaN</td>\n      <td>18.0165</td>\n      <td>11.2772</td>\n      <td>[0.589165031784501, 0.5738474118977346, 0.5580...</td>\n      <td>MID</td>\n      <td>LEGNAGYOBB</td>\n      <td>0.0</td>\n      <td>3.96</td>\n      <td>7.56137</td>\n      <td>Fake</td>\n      <td>...</td>\n      <td>NaN</td>\n      <td>NaN</td>\n      <td>NaN</td>\n      <td>NaN</td>\n      <td>NaN</td>\n      <td>NaN</td>\n      <td>NaN</td>\n      <td>NaN</td>\n      <td>NaN</td>\n      <td>NaN</td>\n    </tr>\n    <tr>\n      <th>USER_50</th>\n      <td>NaN</td>\n      <td>15.0061</td>\n      <td>11.1954</td>\n      <td>[0.5339060213912972, 0.36945867717174596, 0.64...</td>\n      <td>MID</td>\n      <td>LEGNAGYOBB</td>\n      <td>0.0</td>\n      <td>5.7</td>\n      <td>10.73</td>\n      <td>Fake</td>\n      <td>...</td>\n      <td>NaN</td>\n      <td>NaN</td>\n      <td>NaN</td>\n      <td>NaN</td>\n      <td>NaN</td>\n      <td>NaN</td>\n      <td>NaN</td>\n      <td>NaN</td>\n      <td>NaN</td>\n      <td>NaN</td>\n    </tr>\n    <tr>\n      <th>USER_24</th>\n      <td>NaN</td>\n      <td>17.1213</td>\n      <td>11.0802</td>\n      <td>[0.8524672039058905, 0.6646932564742948, 0.888...</td>\n      <td>LOW</td>\n      <td>MEGFONTOLT</td>\n      <td>0.0</td>\n      <td>1.1</td>\n      <td>7.9999</td>\n      <td>Fake</td>\n      <td>...</td>\n      <td>NaN</td>\n      <td>NaN</td>\n      <td>NaN</td>\n      <td>NaN</td>\n      <td>NaN</td>\n      <td>NaN</td>\n      <td>NaN</td>\n      <td>NaN</td>\n      <td>NaN</td>\n      <td>NaN</td>\n    </tr>\n    <tr>\n      <th>USER_82</th>\n      <td>NaN</td>\n      <td>12.0165</td>\n      <td>11.0702</td>\n      <td>[0.42566912870910983, 0.32785095944767734, 0.3...</td>\n      <td>MID</td>\n      <td>LEGNAGYOBB</td>\n      <td>0.0</td>\n      <td>4</td>\n      <td>7.61588</td>\n      <td>Fake</td>\n      <td>...</td>\n      <td>NaN</td>\n      <td>NaN</td>\n      <td>NaN</td>\n      <td>NaN</td>\n      <td>NaN</td>\n      <td>NaN</td>\n      <td>NaN</td>\n      <td>NaN</td>\n      <td>NaN</td>\n      <td>NaN</td>\n    </tr>\n    <tr>\n      <th>USER_4</th>\n      <td>NaN</td>\n      <td>13.0633</td>\n      <td>10.9593</td>\n      <td>[0.08442733669410654, 0.2693474858282297, 0.14...</td>\n      <td>LOW</td>\n      <td>KÖZEPESEN-MEGFONTOLT</td>\n      <td>0.0</td>\n      <td>3.3</td>\n      <td>7.37689</td>\n      <td>Genuine</td>\n      <td>...</td>\n      <td>NaN</td>\n      <td>NaN</td>\n      <td>NaN</td>\n      <td>NaN</td>\n      <td>NaN</td>\n      <td>NaN</td>\n      <td>NaN</td>\n      <td>NaN</td>\n      <td>NaN</td>\n      <td>NaN</td>\n    </tr>\n    <tr>\n      <th>USER_28</th>\n      <td>NaN</td>\n      <td>12.0271</td>\n      <td>10.9251</td>\n      <td>[0.2800947112046668, 0.12715094132390217, 0.27...</td>\n      <td>MID</td>\n      <td>KÖZEPESEN-MEGFONTOLT</td>\n      <td>0.0</td>\n      <td>6.1</td>\n      <td>6.44229</td>\n      <td>Genuine</td>\n      <td>...</td>\n      <td>NaN</td>\n      <td>NaN</td>\n      <td>NaN</td>\n      <td>NaN</td>\n      <td>NaN</td>\n      <td>NaN</td>\n      <td>NaN</td>\n      <td>NaN</td>\n      <td>NaN</td>\n      <td>NaN</td>\n    </tr>\n    <tr>\n      <th>USER_29</th>\n      <td>NaN</td>\n      <td>10.2504</td>\n      <td>10.8747</td>\n      <td>[0.5956093879348691, 0.5431452294221397, 0.378...</td>\n      <td>MID</td>\n      <td>KÖZEPESEN-MEGFONTOLT</td>\n      <td>0.0</td>\n      <td>3.7</td>\n      <td>37.685</td>\n      <td>Fake</td>\n      <td>...</td>\n      <td>NaN</td>\n      <td>NaN</td>\n      <td>NaN</td>\n      <td>Genuine</td>\n      <td>NaN</td>\n      <td>Genuine</td>\n      <td>NaN</td>\n      <td>Genuine</td>\n      <td>Genuine</td>\n      <td>NaN</td>\n    </tr>\n    <tr>\n      <th>USER_27</th>\n      <td>NaN</td>\n      <td>6.05276</td>\n      <td>10.8453</td>\n      <td>[0.7620418903750548, 0.6601064685271574, 0.995...</td>\n      <td>LOW</td>\n      <td>KÖZEPESEN-MEGFONTOLT</td>\n      <td>1.0</td>\n      <td>1.6</td>\n      <td>73.3231</td>\n      <td>Fake</td>\n      <td>...</td>\n      <td>Fake</td>\n      <td>Fake</td>\n      <td>Genuine</td>\n      <td>Genuine</td>\n      <td>Fake</td>\n      <td>Genuine</td>\n      <td>Genuine</td>\n      <td>Genuine</td>\n      <td>Genuine</td>\n      <td>Genuine</td>\n    </tr>\n    <tr>\n      <th>USER_67</th>\n      <td>NaN</td>\n      <td>15.0083</td>\n      <td>10.5172</td>\n      <td>[0.1497626581920835, 0.29837048445353065, 0.06...</td>\n      <td>HIGH</td>\n      <td>KÖZEPESEN-MEGFONTOLT</td>\n      <td>0.0</td>\n      <td>6.5</td>\n      <td>4.24624</td>\n      <td>Fake</td>\n      <td>...</td>\n      <td>NaN</td>\n      <td>NaN</td>\n      <td>NaN</td>\n      <td>NaN</td>\n      <td>NaN</td>\n      <td>NaN</td>\n      <td>NaN</td>\n      <td>NaN</td>\n      <td>NaN</td>\n      <td>NaN</td>\n    </tr>\n    <tr>\n      <th>USER_21</th>\n      <td>NaN</td>\n      <td>5.20499</td>\n      <td>10.4887</td>\n      <td>[0.5808819427085836, 0.6142486228877517, 0.737...</td>\n      <td>LOW</td>\n      <td>ATLAG</td>\n      <td>1.0</td>\n      <td>0.5</td>\n      <td>74.1661</td>\n      <td>Fake</td>\n      <td>...</td>\n      <td>Fake</td>\n      <td>Fake</td>\n      <td>Genuine</td>\n      <td>Genuine</td>\n      <td>Fake</td>\n      <td>Genuine</td>\n      <td>Fake</td>\n      <td>Fake</td>\n      <td>Genuine</td>\n      <td>Genuine</td>\n    </tr>\n    <tr>\n      <th>USER_59</th>\n      <td>NaN</td>\n      <td>20.0097</td>\n      <td>10.2139</td>\n      <td>[0.4201083739781366, 0.4504107317671433, 0.566...</td>\n      <td>HIGH</td>\n      <td>MEGFONTOLT</td>\n      <td>0.0</td>\n      <td>8.5</td>\n      <td>8.15356</td>\n      <td>Fake</td>\n      <td>...</td>\n      <td>NaN</td>\n      <td>NaN</td>\n      <td>NaN</td>\n      <td>NaN</td>\n      <td>NaN</td>\n      <td>NaN</td>\n      <td>NaN</td>\n      <td>NaN</td>\n      <td>NaN</td>\n      <td>NaN</td>\n    </tr>\n    <tr>\n      <th>USER_80</th>\n      <td>NaN</td>\n      <td>18.0097</td>\n      <td>10.1938</td>\n      <td>[0.5966351258908345, 0.5302382748148041, 0.587...</td>\n      <td>HIGH</td>\n      <td>LEGNAGYOBB</td>\n      <td>0.0</td>\n      <td>7.7</td>\n      <td>6.87625</td>\n      <td>Genuine</td>\n      <td>...</td>\n      <td>NaN</td>\n      <td>NaN</td>\n      <td>NaN</td>\n      <td>NaN</td>\n      <td>NaN</td>\n      <td>NaN</td>\n      <td>NaN</td>\n      <td>NaN</td>\n      <td>NaN</td>\n      <td>NaN</td>\n    </tr>\n    <tr>\n      <th>USER_44</th>\n      <td>NaN</td>\n      <td>17.0097</td>\n      <td>10.146</td>\n      <td>[0.3814639204941536, 0.37539177602123946, 0.69...</td>\n      <td>MID</td>\n      <td>LEGNAGYOBB</td>\n      <td>0.0</td>\n      <td>5.8</td>\n      <td>5.93509</td>\n      <td>Fake</td>\n      <td>...</td>\n      <td>NaN</td>\n      <td>NaN</td>\n      <td>NaN</td>\n      <td>NaN</td>\n      <td>NaN</td>\n      <td>NaN</td>\n      <td>NaN</td>\n      <td>NaN</td>\n      <td>NaN</td>\n      <td>NaN</td>\n    </tr>\n    <tr>\n      <th>USER_35</th>\n      <td>NaN</td>\n      <td>13.0097</td>\n      <td>10.1132</td>\n      <td>[0.5818992350206935, 0.4908749608412316, 0.453...</td>\n      <td>MID</td>\n      <td>LEGNAGYOBB</td>\n      <td>0.0</td>\n      <td>4.5</td>\n      <td>9.11693</td>\n      <td>Genuine</td>\n      <td>...</td>\n      <td>NaN</td>\n      <td>NaN</td>\n      <td>NaN</td>\n      <td>NaN</td>\n      <td>NaN</td>\n      <td>NaN</td>\n      <td>NaN</td>\n      <td>NaN</td>\n      <td>NaN</td>\n      <td>NaN</td>\n    </tr>\n    <tr>\n      <th>USER_7</th>\n      <td>NaN</td>\n      <td>14.0098</td>\n      <td>10.037</td>\n      <td>[0.22296314134223635, 0.32585939655751084, 0.3...</td>\n      <td>LOW</td>\n      <td>ATLAG</td>\n      <td>0.0</td>\n      <td>2.2</td>\n      <td>5.02286</td>\n      <td>Genuine</td>\n      <td>...</td>\n      <td>NaN</td>\n      <td>NaN</td>\n      <td>NaN</td>\n      <td>NaN</td>\n      <td>NaN</td>\n      <td>NaN</td>\n      <td>NaN</td>\n      <td>NaN</td>\n      <td>NaN</td>\n      <td>NaN</td>\n    </tr>\n    <tr>\n      <th>USER_83</th>\n      <td>NaN</td>\n      <td>15.0099</td>\n      <td>10</td>\n      <td>[0.3223438753423564, 0.5136635854452495, 0.682...</td>\n      <td>MID</td>\n      <td>LEGNAGYOBB</td>\n      <td>0.0</td>\n      <td>6.2</td>\n      <td>9.52598</td>\n      <td>Fake</td>\n      <td>...</td>\n      <td>NaN</td>\n      <td>NaN</td>\n      <td>NaN</td>\n      <td>NaN</td>\n      <td>NaN</td>\n      <td>NaN</td>\n      <td>NaN</td>\n      <td>NaN</td>\n      <td>NaN</td>\n      <td>NaN</td>\n    </tr>\n    <tr>\n      <th>USER_2</th>\n      <td>NaN</td>\n      <td>14</td>\n      <td>10</td>\n      <td>[0.45984081412195316, 0.35974173890584227, 0.4...</td>\n      <td>LOW</td>\n      <td>MEGFONTOLT</td>\n      <td>0.0</td>\n      <td>NaN</td>\n      <td>NaN</td>\n      <td>Fake</td>\n      <td>...</td>\n      <td>NaN</td>\n      <td>NaN</td>\n      <td>NaN</td>\n      <td>NaN</td>\n      <td>NaN</td>\n      <td>NaN</td>\n      <td>NaN</td>\n      <td>NaN</td>\n      <td>NaN</td>\n      <td>NaN</td>\n    </tr>\n    <tr>\n      <th>USER_52</th>\n      <td>NaN</td>\n      <td>13</td>\n      <td>10</td>\n      <td>[0.18089075389329953, 0.002512983714909001, 0....</td>\n      <td>MID</td>\n      <td>LEGNAGYOBB</td>\n      <td>0.0</td>\n      <td>NaN</td>\n      <td>NaN</td>\n      <td>Genuine</td>\n      <td>...</td>\n      <td>NaN</td>\n      <td>NaN</td>\n      <td>NaN</td>\n      <td>NaN</td>\n      <td>NaN</td>\n      <td>NaN</td>\n      <td>NaN</td>\n      <td>NaN</td>\n      <td>NaN</td>\n      <td>NaN</td>\n    </tr>\n    <tr>\n      <th>USER_53</th>\n      <td>NaN</td>\n      <td>16</td>\n      <td>10</td>\n      <td>[0.4925219134489332, 0.6390105029752637, 0.660...</td>\n      <td>MID</td>\n      <td>MEGFONTOLT</td>\n      <td>0.0</td>\n      <td>NaN</td>\n      <td>NaN</td>\n      <td>Fake</td>\n      <td>...</td>\n      <td>NaN</td>\n      <td>NaN</td>\n      <td>NaN</td>\n      <td>NaN</td>\n      <td>NaN</td>\n      <td>NaN</td>\n      <td>NaN</td>\n      <td>NaN</td>\n      <td>NaN</td>\n      <td>NaN</td>\n    </tr>\n    <tr>\n      <th>USER_10</th>\n      <td>NaN</td>\n      <td>15</td>\n      <td>10</td>\n      <td>[0.05348747764158682, 0.12164953429683256, 0.3...</td>\n      <td>LOW</td>\n      <td>MEGFONTOLT</td>\n      <td>0.0</td>\n      <td>NaN</td>\n      <td>NaN</td>\n      <td>Fake</td>\n      <td>...</td>\n      <td>NaN</td>\n      <td>NaN</td>\n      <td>NaN</td>\n      <td>NaN</td>\n      <td>NaN</td>\n      <td>NaN</td>\n      <td>NaN</td>\n      <td>NaN</td>\n      <td>NaN</td>\n      <td>NaN</td>\n    </tr>\n    <tr>\n      <th>USER_77</th>\n      <td>NaN</td>\n      <td>16</td>\n      <td>10</td>\n      <td>[0.44478014865323595, 0.3179967561498889, 0.69...</td>\n      <td>HIGH</td>\n      <td>LEGNAGYOBB</td>\n      <td>0.0</td>\n      <td>NaN</td>\n      <td>NaN</td>\n      <td>Fake</td>\n      <td>...</td>\n      <td>NaN</td>\n      <td>NaN</td>\n      <td>NaN</td>\n      <td>NaN</td>\n      <td>NaN</td>\n      <td>NaN</td>\n      <td>NaN</td>\n      <td>NaN</td>\n      <td>NaN</td>\n      <td>NaN</td>\n    </tr>\n    <tr>\n      <th>USER_64</th>\n      <td>NaN</td>\n      <td>12</td>\n      <td>10</td>\n      <td>[0.2403942251800329, 0.01807646675213111, 0.26...</td>\n      <td>HIGH</td>\n      <td>LEGNAGYOBB</td>\n      <td>0.0</td>\n      <td>NaN</td>\n      <td>NaN</td>\n      <td>Fake</td>\n      <td>...</td>\n      <td>NaN</td>\n      <td>NaN</td>\n      <td>NaN</td>\n      <td>NaN</td>\n      <td>NaN</td>\n      <td>NaN</td>\n      <td>NaN</td>\n      <td>NaN</td>\n      <td>NaN</td>\n      <td>NaN</td>\n    </tr>\n    <tr>\n      <th>USER_79</th>\n      <td>NaN</td>\n      <td>14</td>\n      <td>10</td>\n      <td>[0.26671296227644853, 0.28191193658421243, 0.3...</td>\n      <td>HIGH</td>\n      <td>KÖZEPESEN-MEGFONTOLT</td>\n      <td>0.0</td>\n      <td>NaN</td>\n      <td>NaN</td>\n      <td>Genuine</td>\n      <td>...</td>\n      <td>NaN</td>\n      <td>NaN</td>\n      <td>NaN</td>\n      <td>NaN</td>\n      <td>NaN</td>\n      <td>NaN</td>\n      <td>NaN</td>\n      <td>NaN</td>\n      <td>NaN</td>\n      <td>NaN</td>\n    </tr>\n    <tr>\n      <th>USER_61</th>\n      <td>NaN</td>\n      <td>17</td>\n      <td>10</td>\n      <td>[0.11345159599725234, 0.14932093466543492, 0.2...</td>\n      <td>HIGH</td>\n      <td>LEGNAGYOBB</td>\n      <td>0.0</td>\n      <td>NaN</td>\n      <td>NaN</td>\n      <td>Genuine</td>\n      <td>...</td>\n      <td>NaN</td>\n      <td>NaN</td>\n      <td>NaN</td>\n      <td>NaN</td>\n      <td>NaN</td>\n      <td>NaN</td>\n      <td>NaN</td>\n      <td>NaN</td>\n      <td>NaN</td>\n      <td>NaN</td>\n    </tr>\n    <tr>\n      <th>USER_49</th>\n      <td>NaN</td>\n      <td>13</td>\n      <td>10</td>\n      <td>[0.03041919012435505, 0.09564740188994578, 0.2...</td>\n      <td>MID</td>\n      <td>LEGNAGYOBB</td>\n      <td>0.0</td>\n      <td>NaN</td>\n      <td>NaN</td>\n      <td>Fake</td>\n      <td>...</td>\n      <td>NaN</td>\n      <td>NaN</td>\n      <td>NaN</td>\n      <td>NaN</td>\n      <td>NaN</td>\n      <td>NaN</td>\n      <td>NaN</td>\n      <td>NaN</td>\n      <td>NaN</td>\n      <td>NaN</td>\n    </tr>\n    <tr>\n      <th>USER_68</th>\n      <td>NaN</td>\n      <td>17</td>\n      <td>10</td>\n      <td>[0.33899811259846874, 0.49911582570310664, 0.5...</td>\n      <td>HIGH</td>\n      <td>MEGFONTOLT</td>\n      <td>0.0</td>\n      <td>NaN</td>\n      <td>NaN</td>\n      <td>Fake</td>\n      <td>...</td>\n      <td>NaN</td>\n      <td>NaN</td>\n      <td>NaN</td>\n      <td>NaN</td>\n      <td>NaN</td>\n      <td>NaN</td>\n      <td>NaN</td>\n      <td>NaN</td>\n      <td>NaN</td>\n      <td>NaN</td>\n    </tr>\n    <tr>\n      <th>USER_14</th>\n      <td>NaN</td>\n      <td>18</td>\n      <td>10</td>\n      <td>[0.5925949193237936, 0.47674001412627987, 0.69...</td>\n      <td>LOW</td>\n      <td>MEGFONTOLT</td>\n      <td>0.0</td>\n      <td>NaN</td>\n      <td>NaN</td>\n      <td>Fake</td>\n      <td>...</td>\n      <td>NaN</td>\n      <td>NaN</td>\n      <td>NaN</td>\n      <td>NaN</td>\n      <td>NaN</td>\n      <td>NaN</td>\n      <td>NaN</td>\n      <td>NaN</td>\n      <td>NaN</td>\n      <td>NaN</td>\n    </tr>\n    <tr>\n      <th>USER_73</th>\n      <td>NaN</td>\n      <td>15</td>\n      <td>10</td>\n      <td>[0.17316221527768652, 0.3340881372027769, 0.05...</td>\n      <td>HIGH</td>\n      <td>MEGFONTOLT</td>\n      <td>0.0</td>\n      <td>NaN</td>\n      <td>NaN</td>\n      <td>Fake</td>\n      <td>...</td>\n      <td>NaN</td>\n      <td>NaN</td>\n      <td>NaN</td>\n      <td>NaN</td>\n      <td>NaN</td>\n      <td>NaN</td>\n      <td>NaN</td>\n      <td>NaN</td>\n      <td>NaN</td>\n      <td>NaN</td>\n    </tr>\n    <tr>\n      <th>USER_5</th>\n      <td>NaN</td>\n      <td>15</td>\n      <td>10</td>\n      <td>[0.6168505404071292, 0.46974901884567477, 0.55...</td>\n      <td>LOW</td>\n      <td>LEGNAGYOBB</td>\n      <td>0.0</td>\n      <td>NaN</td>\n      <td>NaN</td>\n      <td>Fake</td>\n      <td>...</td>\n      <td>NaN</td>\n      <td>NaN</td>\n      <td>NaN</td>\n      <td>NaN</td>\n      <td>NaN</td>\n      <td>NaN</td>\n      <td>NaN</td>\n      <td>NaN</td>\n      <td>NaN</td>\n      <td>NaN</td>\n    </tr>\n  </tbody>\n</table>\n<p>50 rows × 229 columns</p>\n</div>"
     },
     "metadata": {},
     "execution_count": 32
    }
   ],
   "source": [
    "df.sort_values(by = ['Credit'], ascending=False).head(50)"
   ]
  }
 ],
 "metadata": {
  "language_info": {
   "codemirror_mode": {
    "name": "ipython",
    "version": 3
   },
   "file_extension": ".py",
   "mimetype": "text/x-python",
   "name": "python",
   "nbconvert_exporter": "python",
   "pygments_lexer": "ipython3",
   "version": "3.8.2-final"
  },
  "orig_nbformat": 2,
  "kernelspec": {
   "name": "py_36_env",
   "display_name": "py_36_env"
  }
 },
 "nbformat": 4,
 "nbformat_minor": 2
}