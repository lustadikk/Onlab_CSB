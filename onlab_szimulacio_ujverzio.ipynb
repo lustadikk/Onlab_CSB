{
 "cells": [
  {
   "cell_type": "code",
   "execution_count": null,
   "metadata": {},
   "outputs": [],
   "source": [
    "import pandas as pd\n",
    "import numpy as np\n",
    "import matplotlib.pyplot as plt\n",
    "import random"
   ]
  },
  {
   "cell_type": "markdown",
   "metadata": {},
   "source": [
    "## ALAP PARAMÉTEREK"
   ]
  },
  {
   "cell_type": "code",
   "execution_count": null,
   "metadata": {},
   "outputs": [],
   "source": [
    "user_count = 100\n",
    "news_count = 1000\n",
    "starting_credit = 10\n",
    "random.seed(42)"
   ]
  },
  {
   "cell_type": "markdown",
   "metadata": {},
   "source": [
    "## FELHASZNÁLÓI TULAJDONSÁGOK"
   ]
  },
  {
   "cell_type": "code",
   "execution_count": null,
   "metadata": {},
   "outputs": [],
   "source": [
    "def category_to_number_knowledge(row):\n",
    "    if row['Knowledge'] == 'LOW':\n",
    "        return np.random.uniform(0,0.45,10) #0,0.45\n",
    "    elif row['Knowledge'] == 'MID':\n",
    "        return np.random.uniform(0.3,0.7,10) #0.45,0.65\n",
    "    elif row['Knowledge'] == 'HIGH':\n",
    "        return np.random.uniform(0.55,1,10) #0.65,1\n",
    "    else:\n",
    "        pass\n",
    "\n",
    "def category_to_number_risk(risk):\n",
    "    if risk == 'LOW':\n",
    "        return random.randint(5,35)\n",
    "    elif risk == 'MID':\n",
    "        return random.randint(35,65)\n",
    "    elif risk == 'HIGH':\n",
    "        return random.randint(65,95)\n",
    "    else:\n",
    "        pass\n",
    "\n",
    "\n",
    "def news_status(row):\n",
    "    return random.choice(['Fake','Genuine'])  "
   ]
  },
  {
   "cell_type": "markdown",
   "metadata": {},
   "source": [
    "## SZIMULÁCIÓ FELÉPÍTÉSE"
   ]
  },
  {
   "cell_type": "code",
   "execution_count": null,
   "metadata": {},
   "outputs": [],
   "source": [
    "#Felhasználó és hírlisák felépítése\n",
    "user_list = []\n",
    "news_list = []\n",
    "mandatory_news_list = []\n",
    "for sorszam in range (1, user_count + 1):\n",
    "    user_list.append('USER_{}'.format(sorszam))\n",
    "for sorszam in range (1, news_count + 1):\n",
    "    news_list.append('NEWS_{}'.format(sorszam))\n",
    "for sorszam in range (1, 21):\n",
    "    mandatory_news_list.append('MANDATORY_NEWS_{}'.format(sorszam))"
   ]
  },
  {
   "cell_type": "code",
   "execution_count": null,
   "metadata": {},
   "outputs": [],
   "source": [
    "#Tulajdonságok meghatározása\n",
    "credit_list = [starting_credit]*len(user_list)\n",
    "knowledge_list = []\n",
    "low_risk = []\n",
    "mid_risk = []\n",
    "high_risk = []\n",
    "risk_list = []\n",
    "frequency_list = []\n",
    "count = int(math.floor(user_count/27))\n",
    "for x in range(int(math.floor(count*27)/3)):\n",
    "    knowledge_list.extend(['LOW', 'MID', 'HIGH'])\n",
    "    low_risk.append('LOW')\n",
    "    mid_risk.append('MID')\n",
    "    high_risk.append('HIGH')\n",
    "for _ in range (user_count):\n",
    "    freq = random.choice(['MEGFONTOLT','ATLAG','LEGNAGYOBB','GYAKRAN','RITKAN','KÖZEPESEN-MEGFONTOLT'])\n",
    "    frequency_list.append(freq)\n",
    "risk_list = low_risk + mid_risk + high_risk\n",
    "if len(knowledge_list) < user_count:\n",
    "    for _ in range(user_count - len(knowledge_list)):\n",
    "        knowledge_list.append('MID')\n",
    "        risk_list.append('MID')"
   ]
  },
  {
   "cell_type": "code",
   "execution_count": null,
   "metadata": {},
   "outputs": [],
   "source": [
    "#Dataframe felépítése\n",
    "df = pd.DataFrame(index=['Status','Status_voted','Cycle','Vector'] + user_list, columns  = ['PI','Multiplier', 'Credit','Knowledge','Risk','Frequency','Actual_vote','Actual_credit','Actual_kozelseg'] + mandatory_news_list + news_list)\n",
    "df['Credit'][len(df)-user_count:user_count+len(df)-user_count] = credit_list\n",
    "df['Knowledge'][len(df)-user_count:user_count+len(df)-user_count] = knowledge_list\n",
    "df['Risk'][len(df)-user_count:user_count+len(df)-user_count] = risk_list\n",
    "df['Frequency'][len(df)-user_count:user_count+len(df)-user_count] = frequency_list\n",
    "df['Knowledge'] = df.apply(category_to_number_knowledge,axis = 1)\n",
    "df.loc['Status'] = df.loc['Status'][len(df.columns)-(news_count + len(mandatory_news_list)):].apply(news_status)\n",
    "df['Multiplier'][len(df)-user_count:user_count+len(df)-user_count] = 1\n",
    "df.loc['Vector'] = df.loc['Vector'][len(df.columns)-(news_count + len(mandatory_news_list)):].apply(lambda x: np.random.uniform(0,1,10))"
   ]
  },
  {
   "cell_type": "code",
   "execution_count": null,
   "metadata": {},
   "outputs": [],
   "source": [
    "#Hírek közelségének számítása\n",
    "def kozelseg_szamolas(vector_i,vector_c):\n",
    "    d = np.dot(vector_i,vector_c)\n",
    "    v = np.linalg.norm(vector_i)\n",
    "    w = np.linalg.norm(vector_c)\n",
    "    a = d/(v*w)\n",
    "    return a\n",
    "df_kozelseg = pd.DataFrame(index = ['Vector_I'] + (mandatory_news_list + news_list), columns = ['Vector_C']+(mandatory_news_list + news_list))\n",
    "df_kozelseg.loc['Vector_I'] = df.loc['Vector'][9:]\n",
    "df_kozelseg['Vector_C'] = df_kozelseg.loc['Vector_I'].transpose()\n",
    "col_list = df_kozelseg.columns.tolist()[1:]\n",
    "col_list\n",
    "for col in col_list:\n",
    "    df_kozelseg[col][1:]= df_kozelseg[1:].apply(lambda x: kozelseg_szamolas(df_kozelseg.at['Vector_I',col],x['Vector_C']),axis = 1)"
   ]
  },
  {
   "cell_type": "code",
   "execution_count": null,
   "metadata": {},
   "outputs": [],
   "source": [
    "# Előzetes hírértékelés\n",
    "def voting_mandatory(knowledge,vector,vote):\n",
    "    array_difference = knowledge - vector\n",
    "    boolean_array_list = array_difference.tolist()\n",
    "    vote_list = []\n",
    "    if vote == 'Fake':\n",
    "        for elem in boolean_array_list:\n",
    "            if elem <= 0:\n",
    "                #ha nem tudja a felhasználó a választ, akkor véletlenszerű válasz lehetőséget generál\n",
    "                vote_list.append(random.choice(['Genuine','Fake']))\n",
    "            else:\n",
    "                vote_list.append('Fake')\n",
    "    else:\n",
    "        for elem in boolean_array_list:\n",
    "            if elem <= 0:\n",
    "                #ha nem tudja a felhasználó a választ, akkor véletlenszerű válasz lehetőséget generál\n",
    "                vote_list.append(random.choice(['Genuine','Fake']))        \n",
    "            else:\n",
    "                vote_list.append('Genuine')\n",
    "    return vote_list\n",
    "\n",
    "def multiplier_change(vote, col_vote):\n",
    "    #Ha eltalálja az előzetes hírértékelés szavazást, akkor 1-gyel nő a szorzója\n",
    "    if col_vote == vote:\n",
    "        return 1\n",
    "    else:\n",
    "        return 0\n",
    "\n",
    "mandatory_cols = [col for col in df if col.startswith('MANDATORY_NEWS')]\n",
    "for col in mandatory_cols:\n",
    "    vote = df.loc['Status'][df.columns.get_loc(col)]\n",
    "    df[col][len(df)-user_count:] = df[len(df)-user_count:].apply(lambda x: random.choice(voting_mandatory(x['Knowledge'], df.at['Vector',col], vote)),axis = 1)\n",
    "    df['Multiplier'][len(df)-user_count:] += df[len(df)-user_count:].apply(lambda x: multiplier_change(vote,x[col]),axis = 1)"
   ]
  },
  {
   "cell_type": "code",
   "execution_count": null,
   "metadata": {},
   "outputs": [],
   "source": [
    "# Felhasználók tulajdonságai\n",
    "def status_voting(status,news_vector,knowledge_vector):\n",
    "    if status == 'MEGFONTOLT':\n",
    "        if (knowledge_vector > news_vector).all():\n",
    "            return 1\n",
    "        else:\n",
    "            return 0\n",
    "    elif status == 'KÖZEPESEN-MEGFONTOLT':\n",
    "        summa = 0\n",
    "        for i in range(len(knowledge_vector)):\n",
    "            if knowledge_vector[i] > news_vector[i]:\n",
    "                summa += 1\n",
    "            else:\n",
    "                pass\n",
    "        if summa > 5:\n",
    "            return 1\n",
    "        else:\n",
    "            return 0\n",
    "    elif status == 'LEGNAGYOBB':\n",
    "        if news_vector.max() < knowledge_vector[news_vector.argmax()]:\n",
    "            return 1\n",
    "        else:\n",
    "            return 0\n",
    "    elif status == 'ATLAG':\n",
    "        if knowledge_vector.mean() > news_vector.mean():\n",
    "            return 1\n",
    "        else:\n",
    "            return 0\n",
    "    elif status == 'LEGKISEBB':\n",
    "        if knowledge_vector.min() > news_vector[knowledge_vector.argmin()]:\n",
    "            return 1\n",
    "        else:\n",
    "            return 0\n",
    "    elif status == 'GYAKRAN':\n",
    "        if random.randint(0,100) < 50:\n",
    "            return 1\n",
    "        else:\n",
    "            return 0\n",
    "    elif status == 'RITKAN':\n",
    "        if random.randint(0,100) < 25:\n",
    "            return 1\n",
    "        else:\n",
    "            return 0"
   ]
  },
  {
   "cell_type": "markdown",
   "metadata": {},
   "source": [
    "## HÍREK KIÉRTÉKELÉSE FÜGGVÉNY"
   ]
  },
  {
   "cell_type": "code",
   "execution_count": null,
   "metadata": {},
   "outputs": [],
   "source": [
    "def voting_status(df,user_list,col,rate):\n",
    "    vote = df.loc['Status'][df.columns.get_loc(col)]\n",
    "    df['Actual_vote'] = df.apply(lambda x: status_voting(x['Frequency'],df.at['Vector',col],x['Knowledge']),axis = 1)\n",
    "    for user in user_list:\n",
    "        if df.at[user,'Actual_vote'] == 1 and df.at[user,'Credit'] > 0 :\n",
    "            list_values = df.loc[user][9:].dropna().tolist()\n",
    "            list_indexes = df.loc[user][9:].dropna().index.tolist()\n",
    "            summ_kozelseg = 0\n",
    "            for i in range(len(list_values)):\n",
    "                kozelseg_ertek = df_kozelseg.at[list_indexes[i], col]\n",
    "                if list_values[i] == df.at['Status',col]:\n",
    "                    summ_kozelseg += kozelseg_ertek\n",
    "                else:\n",
    "                    pass\n",
    "            df.at[user,'Actual_kozelseg'] = summ_kozelseg\n",
    "            df.at[user,col] = random.choice(voting_mandatory(df.at[user,'Knowledge'], df.at['Vector',col],vote))\n",
    "            df.at[user,'Actual_credit'] = 0\n",
    "            df.at[user,'Actual_credit'] = int(df.at[user,'Credit']) * (category_to_number_risk(df.at[user,'Risk'])/100)\n",
    "        else:\n",
    "            pass\n",
    "    count_fake = 0\n",
    "    count_genuine =0\n",
    "    credit_fake = 0\n",
    "    credit_genuine = 0\n",
    "    arany_szorzo_fake = 0\n",
    "    arany_szorzo_genuine = 0\n",
    "    list_answers = df[col][4:].dropna().tolist()\n",
    "    list_users_who_answered =df[col][4:].dropna().index.tolist()\n",
    "    for i in range(len(list_answers)):\n",
    "        if list_answers[i] == 'Fake':\n",
    "            # a count_fake adja meg a FAKE állapotra szavazók súlyát\n",
    "            count_fake += (df.at[list_users_who_answered[i],'Actual_kozelseg']+df.at[list_users_who_answered[i],'Multiplier']*df.at[list_users_who_answered[i],'Credit'])\n",
    "            credit_fake += df.at[list_users_who_answered[i],'Actual_credit']\n",
    "            arany_szorzo_fake += (df.at[list_users_who_answered[i],'Actual_credit'] / df.at[list_users_who_answered[i],'Credit'])\n",
    "        else:\n",
    "            count_genuine += (df.at[list_users_who_answered[i],'Actual_kozelseg']+df.at[list_users_who_answered[i],'Multiplier']*df.at[list_users_who_answered[i],'Credit'])\n",
    "            credit_genuine += (df.at[list_users_who_answered[i],'Actual_credit'])\n",
    "            arany_szorzo_genuine += (df.at[list_users_who_answered[i],'Actual_credit'] / df.at[list_users_who_answered[i],'Credit'])\n",
    "    \n",
    "    if count_fake > count_genuine and count_fake/(count_fake + count_genuine) > rate:\n",
    "        df.at['Cycle',col] = 'DONE'\n",
    "        df.at['Status_voted',col] = 'Fake'\n",
    "        for i in range(len(list_answers)):\n",
    "            if list_answers[i] == 'Fake':\n",
    "                df.at[list_users_who_answered[i],'Credit'] += ((credit_genuine * (count_fake/(count_fake + count_genuine)))/arany_szorzo_fake)*(df.at[list_users_who_answered[i],'Actual_credit'] / df.at[list_users_who_answered[i],'Credit'])\n",
    "                if df.at[list_users_who_answered[i],'Multiplier'] < 10:\n",
    "                    df.at[list_users_who_answered[i],'Multiplier'] += (count_fake/(count_fake + count_genuine)) - (count_genuine/(count_fake + count_genuine))\n",
    "                else:\n",
    "                    df.at[list_users_who_answered[i],'Multiplier'] += ((count_fake/(count_fake + count_genuine)) - (count_genuine/(count_fake + count_genuine)))/100\n",
    "            else:\n",
    "                if arany_szorzo_genuine != 0:\n",
    "                    df.at[list_users_who_answered[i],'Credit'] += ((credit_genuine * (count_genuine/(count_fake + count_genuine)))/arany_szorzo_genuine)*(df.at[list_users_who_answered[i],'Actual_credit'] / df.at[list_users_who_answered[i],'Credit']) - df.at[list_users_who_answered[i],'Actual_credit']\n",
    "                    #df.at[list_users_who_answered[i],'Multiplier'] -= ((count_fake/(count_fake + count_genuine)) - (count_genuine/(count_fake + count_genuine)))*3\n",
    "                    df.at[list_users_who_answered[i],'Multiplier'] = (df.at[list_users_who_answered[i],'Multiplier'])/3\n",
    "                    #df.at[list_users_who_answered[i],'Multiplier'] = (2*df.at[list_users_who_answered[i],'Multiplier'])/3\n",
    "                else:\n",
    "                    pass\n",
    "                # if df.at[list_users_who_answered[i],'Multiplier'] < 1:\n",
    "                #     df.at[list_users_who_answered[i],'Multiplier'] = 1\n",
    "\n",
    "    elif count_genuine > count_fake and count_genuine/(count_fake + count_genuine) > rate:\n",
    "        df.at['Cycle',col] = (1-rate)*10\n",
    "        df.at['Status_voted',col] = 'Genuine'\n",
    "        for i in range(len(list_answers)):\n",
    "            if list_answers[i] == 'Genuine':\n",
    "                df.at[list_users_who_answered[i],'Credit'] += ((credit_fake * (count_genuine/(count_fake + count_genuine)))/arany_szorzo_genuine)*((df.at[list_users_who_answered[i],'Actual_credit']) / (df.at[list_users_who_answered[i],'Credit']))\n",
    "                if df.at[list_users_who_answered[i],'Multiplier'] < 10:\n",
    "                    df.at[list_users_who_answered[i],'Multiplier'] += (count_genuine/(count_fake + count_genuine)) - (count_fake/(count_fake + count_genuine))\n",
    "                else:\n",
    "                    df.at[list_users_who_answered[i],'Multiplier'] += ((count_genuine/(count_fake + count_genuine)) - (count_fake/(count_fake + count_genuine)))/100\n",
    "            else:\n",
    "                if arany_szorzo_fake != 0:\n",
    "                    df.at[list_users_who_answered[i],'Credit'] += ((credit_fake * (count_fake/(count_fake + count_genuine)))/arany_szorzo_fake)*((df.at[list_users_who_answered[i],'Actual_credit']) / (df.at[list_users_who_answered[i],'Credit'])) - df.at[list_users_who_answered[i],'Actual_credit']\n",
    "                    #df.at[list_users_who_answered[i],'Multiplier'] -= ((count_genuine/(count_fake + count_genuine)) - (count_fake/(count_fake + count_genuine)))*3 #87,5% úgy hogy vannak okosak\n",
    "                    #df.at[list_users_who_answered[i],'Multiplier'] = (2*df.at[list_users_who_answered[i],'Multiplier'])/3 #93,5%, úgy hogy vannak okosak, 77% úgy hogy nincsenek dedikált okosak, és nincs LEGNAGYOBB, 95,5% legkisebb nélkül és okosakkal\n",
    "                    df.at[list_users_who_answered[i],'Multiplier'] = (df.at[list_users_who_answered[i],'Multiplier'])/3\n",
    "                else:\n",
    "                    pass\n",
    "                # if df.at[list_users_who_answered[i],'Multiplier'] < 1:\n",
    "                #     df.at[list_users_who_answered[i],'Multiplier'] = 1\n",
    "    else:\n",
    "        df.at['Status_voted',col] = 'NO DECISION'\n",
    "        return\n",
    "        "
   ]
  },
  {
   "cell_type": "code",
   "execution_count": null,
   "metadata": {},
   "outputs": [],
   "source": [
    "news_cols = [col for col in df if col.startswith('NEWS')]\n",
    "rate = 0.8\n",
    "for col in news_cols:\n",
    "    voting_status(df,user_list,col,rate)"
   ]
  },
  {
   "cell_type": "code",
   "execution_count": null,
   "metadata": {},
   "outputs": [],
   "source": [
    "count_voted = 0\n",
    "for col in news_cols:\n",
    "    if df.at['Status',col] == df.at['Status_voted',col]:\n",
    "        count_voted +=1\n",
    "    else:\n",
    "        pass\n",
    "print('A sikeresen megszavazott hírek aránya: {}%'.format(count_voted/len(news_list)*100))"
   ]
  },
  {
   "cell_type": "code",
   "execution_count": null,
   "metadata": {},
   "outputs": [],
   "source": [
    "df.loc['Status_voted'].value_counts()"
   ]
  },
  {
   "cell_type": "code",
   "execution_count": null,
   "metadata": {},
   "outputs": [],
   "source": [
    "df.sort_values(by = ['Credit'], ascending=False).head(50)"
   ]
  }
 ],
 "metadata": {
  "language_info": {
   "codemirror_mode": {
    "name": "ipython",
    "version": 3
   },
   "file_extension": ".py",
   "mimetype": "text/x-python",
   "name": "python",
   "nbconvert_exporter": "python",
   "pygments_lexer": "ipython3",
   "version": "3.8.2-final"
  },
  "orig_nbformat": 2,
  "kernelspec": {
   "name": "py_36_env",
   "display_name": "py_36_env"
  }
 },
 "nbformat": 4,
 "nbformat_minor": 2
}